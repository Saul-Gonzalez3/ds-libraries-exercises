{
 "cells": [
  {
   "cell_type": "code",
   "execution_count": 97,
   "id": "c383c0ee-ace8-4456-8cbf-e6d28e3d1e3b",
   "metadata": {
    "tags": []
   },
   "outputs": [],
   "source": [
    "import numpy as np\n",
    "a = np.array([4, 10, 12, 23, -2, -1, 0, 0, 0, -6, 3, -7])\n"
   ]
  },
  {
   "cell_type": "code",
   "execution_count": 99,
   "id": "52cca91b-42ec-4f15-9a13-3dae733f2396",
   "metadata": {
    "tags": []
   },
   "outputs": [
    {
     "name": "stdout",
     "output_type": "stream",
     "text": [
      "There are 4 negative numbers\n"
     ]
    },
    {
     "data": {
      "text/plain": [
       "4"
      ]
     },
     "execution_count": 99,
     "metadata": {},
     "output_type": "execute_result"
    }
   ],
   "source": [
    "#How many negative numbers are there\n",
    "def negative(a):\n",
    "    count = 0\n",
    "    for n in a:\n",
    "        if n < 0:\n",
    "            count += 1        \n",
    "    print(f\"There are\",count,\"negative numbers\")\n",
    "    \n",
    "negative(a)\n",
    "\n",
    "(a < 0).sum()"
   ]
  },
  {
   "cell_type": "code",
   "execution_count": 100,
   "id": "de6959eb-83f4-468d-8cbf-878c7af4b855",
   "metadata": {
    "tags": []
   },
   "outputs": [
    {
     "name": "stdout",
     "output_type": "stream",
     "text": [
      "There are 5 positive numbers\n"
     ]
    },
    {
     "data": {
      "text/plain": [
       "5"
      ]
     },
     "execution_count": 100,
     "metadata": {},
     "output_type": "execute_result"
    }
   ],
   "source": [
    "#How many positive numbers are there\n",
    "def positive(a):\n",
    "    count = 0\n",
    "    for n in a:\n",
    "        if n > 0:\n",
    "            count += 1\n",
    "    print(f\"There are\",count,\"positive numbers\")\n",
    "positive(a)\n",
    "\n",
    "(a > 0).sum()"
   ]
  },
  {
   "cell_type": "code",
   "execution_count": 102,
   "id": "e82634e3-be48-450a-80ff-c0bd10bc8cdf",
   "metadata": {
    "tags": []
   },
   "outputs": [
    {
     "name": "stdout",
     "output_type": "stream",
     "text": [
      "There are 3 even positive numbers\n"
     ]
    },
    {
     "data": {
      "text/plain": [
       "3"
      ]
     },
     "execution_count": 102,
     "metadata": {},
     "output_type": "execute_result"
    }
   ],
   "source": [
    "#How many even positive numbers are there\n",
    "def positive_even(a):\n",
    "    count = 0\n",
    "    for n in a:\n",
    "        if n > 0 and n % 2 == 0:\n",
    "            count += 1\n",
    "    print(f\"There are\",count,\"even positive numbers\")\n",
    "    \n",
    "positive_even(a)\n",
    "\n",
    "len(a[(a > 0) & (a % 2 == 0)])"
   ]
  },
  {
   "cell_type": "code",
   "execution_count": 107,
   "id": "32619801-0f78-41e8-a97b-504fe3c6eeca",
   "metadata": {
    "tags": []
   },
   "outputs": [
    {
     "name": "stdout",
     "output_type": "stream",
     "text": [
      "There are 10 positive numbers\n"
     ]
    },
    {
     "data": {
      "text/plain": [
       "10"
      ]
     },
     "execution_count": 107,
     "metadata": {},
     "output_type": "execute_result"
    }
   ],
   "source": [
    "#If you were to add 3 to each data point, how many positive numbers would there be?\n",
    "b = a + 3\n",
    "positive(b)\n",
    "len(b[(b > 0)])"
   ]
  },
  {
   "cell_type": "code",
   "execution_count": 108,
   "id": "c05f0e94-6cbe-498c-b54c-a12b0f9ff2fe",
   "metadata": {
    "tags": []
   },
   "outputs": [
    {
     "name": "stdout",
     "output_type": "stream",
     "text": [
      "The new mean would be:  74.0\n",
      "The standard deviation would be:  144.0243\n"
     ]
    }
   ],
   "source": [
    "#If you squared each number, what would the new mean and standard deviation be?\n",
    "b = a*a #squaring each number\n",
    "average = b.mean() #the new mean\n",
    "standard_dev = round(b.std(), 4) #standard deviation, rounding to four digits\n",
    "print(f\"The new mean would be: \",average)\n",
    "print(f\"The standard deviation would be: \",standard_dev)\n"
   ]
  },
  {
   "cell_type": "code",
   "execution_count": 23,
   "id": "50500233-7c44-4ce9-bf64-6aee55c23835",
   "metadata": {
    "tags": []
   },
   "outputs": [
    {
     "name": "stdout",
     "output_type": "stream",
     "text": [
      "The data's new mean is:,  0.0\n",
      "The data has been centered as such:  [  1.   7.   9.  20.  -5.  -4.  -3.  -3.  -3.  -9.   0. -10.]\n"
     ]
    }
   ],
   "source": [
    "#Center the data set.\n",
    "def center_data(a):\n",
    "    average = a.mean()\n",
    "    centered = a - average # subtract the mean from each data point\n",
    "    check_centered = centered.mean() #The data is adjusted such that the mean is 0.\n",
    "    print(f\"The data's new mean is:, \",check_centered)\n",
    "    print(f\"The data has been centered as such: \",centered)\n",
    "\n",
    "center_data(a)\n"
   ]
  },
  {
   "cell_type": "code",
   "execution_count": 24,
   "id": "42338449-f184-4e7e-88d3-967395bb98ed",
   "metadata": {
    "tags": []
   },
   "outputs": [
    {
     "name": "stdout",
     "output_type": "stream",
     "text": [
      "The z-score for each data point is:  [ 0.12403473  0.86824314  1.11631261  2.48069469 -0.62017367 -0.49613894\n",
      " -0.3721042  -0.3721042  -0.3721042  -1.11631261  0.         -1.24034735]\n"
     ]
    }
   ],
   "source": [
    "#Calculate the z-score for each data point.\n",
    "\n",
    "def z_score(a):\n",
    "    average = a.mean() #the mean\n",
    "    standard_dev = a.std()\n",
    "    z_scored = ((a - average)/standard_dev)\n",
    "    print(f\"The z-score for each data point is: \",z_scored)\n",
    "    \n",
    "z_score(a)\n",
    "    \n"
   ]
  },
  {
   "cell_type": "code",
   "execution_count": null,
   "id": "cbae7076-a1ff-4c60-9569-1f053f425ea5",
   "metadata": {},
   "outputs": [],
   "source": [
    "#### More Numpy Practice ####"
   ]
  },
  {
   "cell_type": "code",
   "execution_count": 112,
   "id": "280e97a7-0de8-45b6-9275-d56d42834e7a",
   "metadata": {
    "tags": []
   },
   "outputs": [],
   "source": [
    "## Setup 1\n",
    "a = [1, 2, 3, 4, 5, 6, 7, 8, 9, 10]\n",
    "a = np.array([1, 2, 3, 4, 5, 6, 7, 8, 9, 10])"
   ]
  },
  {
   "cell_type": "code",
   "execution_count": 76,
   "id": "13ecc2a0-8e11-466d-994b-716c6740e3b5",
   "metadata": {
    "tags": []
   },
   "outputs": [
    {
     "name": "stdout",
     "output_type": "stream",
     "text": [
      "55\n"
     ]
    }
   ],
   "source": [
    "# Exercise 1 - Make a variable called sum_of_a to hold the sum of all the numbers in above list\n",
    "\n",
    "sum_of_a = sum(a)\n",
    "print(sum_of_a)"
   ]
  },
  {
   "cell_type": "code",
   "execution_count": 80,
   "id": "a53ef635-b85c-4208-a436-cbf5acf72258",
   "metadata": {
    "tags": []
   },
   "outputs": [
    {
     "name": "stdout",
     "output_type": "stream",
     "text": [
      "1\n"
     ]
    }
   ],
   "source": [
    "# Exercise 2 - Make a variable named min_of_a to hold the minimum of all the numbers in the above list\n",
    "\n",
    "min_of_a = min(a)\n",
    "print(min_of_a)"
   ]
  },
  {
   "cell_type": "code",
   "execution_count": 79,
   "id": "61835823-bffb-4db6-87a3-3638a92b13e4",
   "metadata": {
    "tags": []
   },
   "outputs": [
    {
     "name": "stdout",
     "output_type": "stream",
     "text": [
      "10\n"
     ]
    }
   ],
   "source": [
    "# Exercise 3 - Make a variable named max_of_a to hold the max number of all the numbers in the above list\n",
    "\n",
    "max_of_a = max(a)\n",
    "print(max_of_a)\n"
   ]
  },
  {
   "cell_type": "code",
   "execution_count": 113,
   "id": "07e506a5-4e87-41ff-b10a-e70851b20d79",
   "metadata": {
    "tags": []
   },
   "outputs": [
    {
     "name": "stdout",
     "output_type": "stream",
     "text": [
      "5.5\n"
     ]
    }
   ],
   "source": [
    "# Exercise 4 - Make a variable named mean_of_a to hold the average of all the numbers in the above list\n",
    "\n",
    "mean_of_a = a.mean()\n",
    "print(mean_of_a)\n"
   ]
  },
  {
   "cell_type": "code",
   "execution_count": 115,
   "id": "00cac7e1-b5a1-4070-a527-c87acb926746",
   "metadata": {
    "tags": []
   },
   "outputs": [
    {
     "name": "stdout",
     "output_type": "stream",
     "text": [
      "[  1   4   9  16  25  36  49  64  81 100]\n",
      "[   1    8   27   64  125  216  343  512  729 1000]\n",
      "[    1    16    81   256   625  1296  2401  4096  6561 10000]\n",
      "[     1     32    243   1024   3125   7776  16807  32768  59049 100000]\n",
      "[      1      64     729    4096   15625   46656  117649  262144  531441\n",
      " 1000000]\n",
      "[       1      128     2187    16384    78125   279936   823543  2097152\n",
      "  4782969 10000000]\n",
      "[        1       256      6561     65536    390625   1679616   5764801\n",
      "  16777216  43046721 100000000]\n",
      "[         1        512      19683     262144    1953125   10077696\n",
      "   40353607  134217728  387420489 1000000000]\n",
      "[          1        1024       59049     1048576     9765625    60466176\n",
      "   282475249  1073741824  3486784401 10000000000]\n",
      "[           1         2048       177147      4194304     48828125\n",
      "    362797056   1977326743   8589934592  31381059609 100000000000]\n"
     ]
    }
   ],
   "source": [
    "# Exercise 5 - Make a variable named product_of_a to hold the product of multiplying all the numbers in the above list together\n",
    "#from itertools import permutations\n",
    "#product_of_a = list(permutations(a))\n",
    "#print(f\"The product of multiplying all t he numbers in the above list together are: \",product_of_a)\n",
    "\n",
    "product_of_a = 1\n",
    "for n in a:\n",
    "    product_of_a *= a\n",
    "    print(product_of_a * a)\n"
   ]
  },
  {
   "cell_type": "code",
   "execution_count": 160,
   "id": "30a70734-524c-474c-ae63-db9bc77e6cb1",
   "metadata": {
    "tags": []
   },
   "outputs": [
    {
     "data": {
      "text/plain": [
       "array([  1,   4,   9,  16,  25,  36,  49,  64,  81, 100])"
      ]
     },
     "execution_count": 160,
     "metadata": {},
     "output_type": "execute_result"
    }
   ],
   "source": [
    "# Exercise 6 - Make a variable named squares_of_a. It should hold each number in a squared like [1, 4, 9, 16, 25...]\n",
    "\n",
    "squares_of_a = a * a\n",
    "squares_of_a"
   ]
  },
  {
   "cell_type": "code",
   "execution_count": 12,
   "id": "d0f196b0-c44b-405b-8cc5-ba33e42537b6",
   "metadata": {
    "tags": []
   },
   "outputs": [
    {
     "name": "stdout",
     "output_type": "stream",
     "text": [
      "(array([1, 3, 5, 7, 9]),)\n"
     ]
    }
   ],
   "source": [
    "# Exercise 7 - Make a variable named odds_in_a. It should hold only the odd numbers\n",
    "\n",
    "odds_in_a = np.where(a % 2 == 0)\n",
    "\n",
    "print(odds_in_a)\n",
    "\n",
    "# odds_in_a = [num for num in a if num % 2 == 1] This is how you do the short way WITHOUT A FOR loop AND WITHOUT NUMPY"
   ]
  },
  {
   "cell_type": "code",
   "execution_count": 13,
   "id": "3ee314fa-7f77-4a03-ba16-c273caca1361",
   "metadata": {
    "tags": []
   },
   "outputs": [
    {
     "name": "stdout",
     "output_type": "stream",
     "text": [
      "(array([0, 2, 4, 6, 8]),)\n"
     ]
    }
   ],
   "source": [
    "# Exercise 8 - Make a variable named evens_in_a. It should hold only the evens.\n",
    "evens_in_a = np.where(a % 2 != 0)\n",
    "\n",
    "print(evens_in_a)\n"
   ]
  },
  {
   "cell_type": "code",
   "execution_count": 118,
   "id": "a86e9f8d-cf8e-41d3-9459-c973ce651378",
   "metadata": {
    "tags": []
   },
   "outputs": [],
   "source": [
    "b = np.array([\n",
    "    [3, 4, 5],\n",
    "    [6, 7, 8]\n",
    "])"
   ]
  },
  {
   "cell_type": "code",
   "execution_count": 119,
   "id": "91deff0a-0f83-4b30-b3e9-8f9cf16192cb",
   "metadata": {
    "tags": []
   },
   "outputs": [
    {
     "data": {
      "text/plain": [
       "33"
      ]
     },
     "execution_count": 119,
     "metadata": {},
     "output_type": "execute_result"
    }
   ],
   "source": [
    "# Exercise 1 - refactor the following to use numpy. Use sum_of_b as the variable. **Hint, you'll first need to make sure that the \"b\" variable is a numpy array**\n",
    "sum_of_b = b.sum()\n",
    "\n",
    "#sum_of_b = sum(b[0] + b[1])\n",
    "#print(sum_of_b)\n",
    "sum_of_b"
   ]
  },
  {
   "cell_type": "code",
   "execution_count": 120,
   "id": "a79aa4ac-b831-41b5-bc7e-43722167f88d",
   "metadata": {
    "tags": []
   },
   "outputs": [
    {
     "name": "stdout",
     "output_type": "stream",
     "text": [
      "3\n"
     ]
    }
   ],
   "source": [
    "# Exercise 2 - refactor the following to use numpy. \n",
    "#min_of_b = min(b[0]) if min(b[0]) <= min(b[1]) else min(b[1])  \n",
    "\n",
    "min_of_b = b.min()\n",
    "\n",
    "#all_of_b = (b[0] + b[1])\n",
    "#min_of_b = min(all_of_b)\n",
    "print(min_of_b)\n",
    "\n",
    "\n"
   ]
  },
  {
   "cell_type": "code",
   "execution_count": 121,
   "id": "f1aa067e-b9fd-4eec-a636-a6ad6c3659d6",
   "metadata": {
    "tags": []
   },
   "outputs": [
    {
     "name": "stdout",
     "output_type": "stream",
     "text": [
      "8\n"
     ]
    }
   ],
   "source": [
    "# Exercise 3 - refactor the following maximum calculation to find the answer with numpy.\n",
    "#max_of_b = max(b[0]) if max(b[0]) >= max(b[1]) else max(b[1])\n",
    "\n",
    "max_of_b = b.max()\n",
    "#all_of_b = (b[0] + b[1])\n",
    "#max_of_b = max(all_of_b)\n",
    "print(max_of_b)\n"
   ]
  },
  {
   "cell_type": "code",
   "execution_count": 123,
   "id": "0352dfe2-600f-40ea-a75a-566a0f7d2ede",
   "metadata": {
    "tags": []
   },
   "outputs": [
    {
     "data": {
      "text/plain": [
       "5.5"
      ]
     },
     "execution_count": 123,
     "metadata": {},
     "output_type": "execute_result"
    }
   ],
   "source": [
    "#Exercise 4 - refactor the following using numpy to find the mean of b\n",
    "#mean_of_b = (sum(b[0]) + sum(b[1])) / (len(b[0]) + len(b[1]))\n",
    "b.mean()\n"
   ]
  },
  {
   "cell_type": "code",
   "execution_count": 126,
   "id": "b3031d3d-e528-4cc5-97f3-28408477ed50",
   "metadata": {
    "tags": []
   },
   "outputs": [
    {
     "name": "stdout",
     "output_type": "stream",
     "text": [
      "20160\n"
     ]
    }
   ],
   "source": [
    "# Exercise 5 - refactor the following to use numpy for calculating the product of all numbers multiplied together.\n",
    "#product_of_b = 1\n",
    "#for row in b:\n",
    "#    for number in row:\n",
    "#        product_of_b *= number\n",
    "\n",
    "product_of_b = np.prod(b)\n",
    "print(product_of_b)\n"
   ]
  },
  {
   "cell_type": "code",
   "execution_count": 127,
   "id": "1825ab77-52ec-4376-ad12-fc101011ab18",
   "metadata": {
    "tags": []
   },
   "outputs": [
    {
     "data": {
      "text/plain": [
       "array([[ 9, 16, 25],\n",
       "       [36, 49, 64]])"
      ]
     },
     "execution_count": 127,
     "metadata": {},
     "output_type": "execute_result"
    }
   ],
   "source": [
    "# Exercise 6 - refactor the following to use numpy to find the list of squares \n",
    "b ** 2"
   ]
  },
  {
   "cell_type": "code",
   "execution_count": 130,
   "id": "a3d584ef-7c67-4aa6-8c97-ac391cde3d94",
   "metadata": {
    "tags": []
   },
   "outputs": [
    {
     "name": "stdout",
     "output_type": "stream",
     "text": [
      "[3, 5, 7]\n"
     ]
    },
    {
     "data": {
      "text/plain": [
       "array([3, 5, 7])"
      ]
     },
     "execution_count": 130,
     "metadata": {},
     "output_type": "execute_result"
    }
   ],
   "source": [
    "# Exercise 7 - refactor using numpy to determine the odds_in_b\n",
    "odds_in_b = []\n",
    "for row in b:\n",
    "    for number in row:\n",
    "        if(number % 2 != 0):\n",
    "            odds_in_b.append(number)\n",
    "print(odds_in_b)\n",
    "\n",
    "b[b % 2 == 1]"
   ]
  },
  {
   "cell_type": "code",
   "execution_count": 131,
   "id": "4ee9b555-6527-4b9e-9e64-bee35a0b9862",
   "metadata": {
    "tags": []
   },
   "outputs": [
    {
     "data": {
      "text/plain": [
       "array([4, 6, 8])"
      ]
     },
     "execution_count": 131,
     "metadata": {},
     "output_type": "execute_result"
    }
   ],
   "source": [
    "# Exercise 8 - refactor the following to use numpy to filter only the even numbers\n",
    "evens_in_b = []\n",
    "for row in b:\n",
    "    for number in row:\n",
    "        if(number % 2 == 0):\n",
    "            evens_in_b.append(number)\n",
    "            \n",
    "b[b%2 != 1]"
   ]
  },
  {
   "cell_type": "code",
   "execution_count": 61,
   "id": "335b0563-0fa5-4c25-9205-19b1d4df7c07",
   "metadata": {
    "tags": []
   },
   "outputs": [
    {
     "data": {
      "text/plain": [
       "(2, 3)"
      ]
     },
     "execution_count": 61,
     "metadata": {},
     "output_type": "execute_result"
    }
   ],
   "source": [
    "# Exercise 9 - print out the shape of the array b.\n",
    "\n",
    "b.shape\n"
   ]
  },
  {
   "cell_type": "code",
   "execution_count": 66,
   "id": "2145c638-77e1-4ac6-9143-c57fef70d24d",
   "metadata": {
    "tags": []
   },
   "outputs": [
    {
     "data": {
      "text/plain": [
       "array([[3, 6],\n",
       "       [4, 7],\n",
       "       [5, 8]])"
      ]
     },
     "execution_count": 66,
     "metadata": {},
     "output_type": "execute_result"
    }
   ],
   "source": [
    "# Exercise 10 - transpose the array b.\n",
    "b.transpose()"
   ]
  },
  {
   "cell_type": "code",
   "execution_count": 72,
   "id": "4436a431-592c-4804-a01c-fe20a9b5a487",
   "metadata": {
    "tags": []
   },
   "outputs": [
    {
     "data": {
      "text/plain": [
       "array([[3, 4, 5, 6, 7, 8]])"
      ]
     },
     "execution_count": 72,
     "metadata": {},
     "output_type": "execute_result"
    }
   ],
   "source": [
    "# Exercise 11 - reshape the array b to be a single list of 6 numbers. (1 x 6)\n",
    "b.reshape(1,6)"
   ]
  },
  {
   "cell_type": "code",
   "execution_count": 73,
   "id": "e9224929-a2ef-42b9-bb69-ae6ebd980229",
   "metadata": {
    "tags": []
   },
   "outputs": [
    {
     "data": {
      "text/plain": [
       "array([[3],\n",
       "       [4],\n",
       "       [5],\n",
       "       [6],\n",
       "       [7],\n",
       "       [8]])"
      ]
     },
     "execution_count": 73,
     "metadata": {},
     "output_type": "execute_result"
    }
   ],
   "source": [
    "# Exercise 12 - reshape the array b to be a list of 6 lists, each containing only 1 number (6 x 1)\n",
    "b.reshape(6,1)"
   ]
  },
  {
   "cell_type": "code",
   "execution_count": 76,
   "id": "4045ffa3-ed0e-4442-85ec-68ce573663ea",
   "metadata": {
    "tags": []
   },
   "outputs": [],
   "source": [
    "## Setup 3\n",
    "c = np.array([\n",
    "    [1, 2, 3],\n",
    "    [4, 5, 6],\n",
    "    [7, 8, 9]\n",
    "])"
   ]
  },
  {
   "cell_type": "code",
   "execution_count": 134,
   "id": "4391159a-00d6-4e78-8ff7-43f0dbf04c3e",
   "metadata": {
    "tags": []
   },
   "outputs": [
    {
     "name": "stdout",
     "output_type": "stream",
     "text": [
      "The min of array c is:  1\n",
      "The max of array c is:  9\n",
      "The sum of array c is:  45\n",
      " The product of array c is:  362880\n"
     ]
    }
   ],
   "source": [
    "# HINT, you'll first need to make sure that the \"c\" variable is a numpy array prior to using numpy array methods.\n",
    "# Exercise 1 - Find the min, max, sum, and product of c.\n",
    "\n",
    "\n",
    "min_of_c = c.min()\n",
    "print(f\"The min of array c is: \",min_of_c)\n",
    "\n",
    "\n",
    "max_of_c = c.max()\n",
    "print(f\"The max of array c is: \",max_of_c)\n",
    "\n",
    "sum_of_c = c.sum()\n",
    "print(f\"The sum of array c is: \",sum_of_c)\n",
    "\n",
    "\n",
    "product_of_c = np.prod(c)\n",
    "print(f\" The product of array c is: \",product_of_c)\n"
   ]
  },
  {
   "cell_type": "code",
   "execution_count": 79,
   "id": "9421cfc9-77b3-4881-ade8-e76cfc58c372",
   "metadata": {
    "tags": []
   },
   "outputs": [
    {
     "name": "stdout",
     "output_type": "stream",
     "text": [
      "The standard deviation would be:  2.582\n"
     ]
    }
   ],
   "source": [
    "# Exercise 2 - Determine the standard deviation of c.\n",
    "\n",
    "standard_dev = round(c.std(), 4) #standard deviation, rounding to four digits\n",
    "\n",
    "print(f\"The standard deviation would be: \",standard_dev)"
   ]
  },
  {
   "cell_type": "code",
   "execution_count": 135,
   "id": "a2edc307-31b3-415f-8aaf-2f09d6fa94c2",
   "metadata": {
    "tags": []
   },
   "outputs": [
    {
     "data": {
      "text/plain": [
       "6.666666666666667"
      ]
     },
     "execution_count": 135,
     "metadata": {},
     "output_type": "execute_result"
    }
   ],
   "source": [
    "# Exercise 3 - Determine the variance of c.\n",
    "\n",
    "c.var()"
   ]
  },
  {
   "cell_type": "code",
   "execution_count": 80,
   "id": "7a933ac5-613a-48b6-9645-41aac39ddcc3",
   "metadata": {
    "tags": []
   },
   "outputs": [
    {
     "data": {
      "text/plain": [
       "(3, 3)"
      ]
     },
     "execution_count": 80,
     "metadata": {},
     "output_type": "execute_result"
    }
   ],
   "source": [
    "# Exercise 4 - Print out the shape of the array c\n",
    "c.shape\n"
   ]
  },
  {
   "cell_type": "code",
   "execution_count": 83,
   "id": "1e37e276-9dfa-4400-8233-329bd40dd0c8",
   "metadata": {
    "tags": []
   },
   "outputs": [
    {
     "data": {
      "text/plain": [
       "array([[1, 4, 7],\n",
       "       [2, 5, 8],\n",
       "       [3, 6, 9]])"
      ]
     },
     "execution_count": 83,
     "metadata": {},
     "output_type": "execute_result"
    }
   ],
   "source": [
    "# Exercise 5 - Transpose c and print out transposed result.\n",
    "c.transpose()\n"
   ]
  },
  {
   "cell_type": "code",
   "execution_count": 136,
   "id": "d1e3a92f-cc8e-4602-a0cf-16d7448be3ee",
   "metadata": {
    "tags": []
   },
   "outputs": [
    {
     "data": {
      "text/plain": [
       "array([[ 30,  36,  42],\n",
       "       [ 66,  81,  96],\n",
       "       [102, 126, 150]])"
      ]
     },
     "execution_count": 136,
     "metadata": {},
     "output_type": "execute_result"
    }
   ],
   "source": [
    "# Exercise 6 - Get the dot product of the array c with c. \n",
    "\n",
    "np.dot(c, c)"
   ]
  },
  {
   "cell_type": "code",
   "execution_count": 92,
   "id": "aabd9469-b009-4929-8368-1f60e35b8986",
   "metadata": {
    "tags": []
   },
   "outputs": [
    {
     "name": "stdout",
     "output_type": "stream",
     "text": [
      "261\n"
     ]
    }
   ],
   "source": [
    "# Exercise 7 - Write the code necessary to sum up the result of c times c transposed. Answer should be 261\n",
    "c_c = c.transpose()\n",
    "l = c * c_c\n",
    "a = l[0]\n",
    "b = l[1]\n",
    "d = l[2]\n",
    "k = a + b + d\n",
    "m = sum(k)\n",
    "print(m)\n"
   ]
  },
  {
   "cell_type": "code",
   "execution_count": 140,
   "id": "d334ff40-40c9-41f9-b20e-8cd5f52a741e",
   "metadata": {
    "tags": []
   },
   "outputs": [
    {
     "data": {
      "text/plain": [
       "131681894400"
      ]
     },
     "execution_count": 140,
     "metadata": {},
     "output_type": "execute_result"
    }
   ],
   "source": [
    "# Exercise 8 - Write the code necessary to determine the product of c times c transposed. Answer should be 131681894400.\n",
    "\n",
    "np.prod(c * c.T)"
   ]
  },
  {
   "cell_type": "code",
   "execution_count": 143,
   "id": "de03850a-008f-48fd-a5e4-5a6dde98c9eb",
   "metadata": {
    "tags": []
   },
   "outputs": [],
   "source": [
    "## Setup 4\n",
    "d = np.array([\n",
    "    [90, 30, 45, 0, 120, 180],\n",
    "    [45, -90, -30, 270, 90, 0],\n",
    "    [60, 45, -45, 90, -45, 180]\n",
    "])"
   ]
  },
  {
   "cell_type": "code",
   "execution_count": 146,
   "id": "21434d3e-e020-46c0-a8d2-90b59b684e0c",
   "metadata": {
    "tags": []
   },
   "outputs": [
    {
     "data": {
      "text/plain": [
       "array([[ 0.89399666, -0.98803162,  0.85090352,  0.        ,  0.58061118,\n",
       "        -0.80115264],\n",
       "       [ 0.85090352, -0.89399666,  0.98803162, -0.17604595,  0.89399666,\n",
       "         0.        ],\n",
       "       [-0.30481062,  0.85090352, -0.85090352,  0.89399666, -0.85090352,\n",
       "        -0.80115264]])"
      ]
     },
     "execution_count": 146,
     "metadata": {},
     "output_type": "execute_result"
    }
   ],
   "source": [
    "# Exercise 1 - Find the sine of all the numbers in d\n",
    "\n",
    "np.sin(d)"
   ]
  },
  {
   "cell_type": "code",
   "execution_count": 147,
   "id": "c48619e0-e7c3-4eb8-9789-04c2663b9821",
   "metadata": {
    "tags": []
   },
   "outputs": [
    {
     "data": {
      "text/plain": [
       "array([[-0.44807362,  0.15425145,  0.52532199,  1.        ,  0.81418097,\n",
       "        -0.59846007],\n",
       "       [ 0.52532199, -0.44807362,  0.15425145,  0.98438195, -0.44807362,\n",
       "         1.        ],\n",
       "       [-0.95241298,  0.52532199,  0.52532199, -0.44807362,  0.52532199,\n",
       "        -0.59846007]])"
      ]
     },
     "execution_count": 147,
     "metadata": {},
     "output_type": "execute_result"
    }
   ],
   "source": [
    "# Exercise 2 - Find the cosine of all the numbers in d\n",
    "np.cos(d)"
   ]
  },
  {
   "cell_type": "code",
   "execution_count": 148,
   "id": "75dba331-c7f3-4517-9359-4c881dde0810",
   "metadata": {
    "tags": []
   },
   "outputs": [
    {
     "data": {
      "text/plain": [
       "array([[-1.99520041, -6.4053312 ,  1.61977519,  0.        ,  0.71312301,\n",
       "         1.33869021],\n",
       "       [ 1.61977519,  1.99520041,  6.4053312 , -0.17883906, -1.99520041,\n",
       "         0.        ],\n",
       "       [ 0.32004039,  1.61977519, -1.61977519, -1.99520041, -1.61977519,\n",
       "         1.33869021]])"
      ]
     },
     "execution_count": 148,
     "metadata": {},
     "output_type": "execute_result"
    }
   ],
   "source": [
    "# Exercise 3 - Find the tangent of all the numbers in d\n",
    "np.tan(d)"
   ]
  },
  {
   "cell_type": "code",
   "execution_count": 149,
   "id": "770c4fbb-ab36-4051-baf1-5d36308022a7",
   "metadata": {
    "tags": []
   },
   "outputs": [
    {
     "data": {
      "text/plain": [
       "array([-90, -30, -45, -45])"
      ]
     },
     "execution_count": 149,
     "metadata": {},
     "output_type": "execute_result"
    }
   ],
   "source": [
    "# Exercise 4 - Find all the negative numbers in d\n",
    "\n",
    "\n",
    "d[(d < 0)]\n"
   ]
  },
  {
   "cell_type": "code",
   "execution_count": 150,
   "id": "b2c4985b-2076-4793-88c0-7441b5d8489c",
   "metadata": {
    "tags": []
   },
   "outputs": [
    {
     "data": {
      "text/plain": [
       "array([ 90,  30,  45, 120, 180,  45, 270,  90,  60,  45,  90, 180])"
      ]
     },
     "execution_count": 150,
     "metadata": {},
     "output_type": "execute_result"
    }
   ],
   "source": [
    "# Exercise 5 - Find all the positive numbers in d\n",
    "d[(d > 0)]"
   ]
  },
  {
   "cell_type": "code",
   "execution_count": 154,
   "id": "04c05c6d-6f96-4e1e-a632-b2ee8658e7cd",
   "metadata": {
    "tags": []
   },
   "outputs": [
    {
     "data": {
      "text/plain": [
       "array([-90, -45, -30,   0,  30,  45,  60,  90, 120, 180, 270])"
      ]
     },
     "execution_count": 154,
     "metadata": {},
     "output_type": "execute_result"
    }
   ],
   "source": [
    "# Exercise 6 - Return an array of only the unique numbers in d.\n",
    "np.unique(d)"
   ]
  },
  {
   "cell_type": "code",
   "execution_count": 159,
   "id": "04a6a7d8-f8f2-4dd8-b38d-9e06f0f98e43",
   "metadata": {
    "tags": []
   },
   "outputs": [
    {
     "data": {
      "text/plain": [
       "11"
      ]
     },
     "execution_count": 159,
     "metadata": {},
     "output_type": "execute_result"
    }
   ],
   "source": [
    "# Exercise 7 - Determine how many unique numbers there are in d.\n",
    "\n",
    "len(np.unique(d))"
   ]
  },
  {
   "cell_type": "code",
   "execution_count": 151,
   "id": "796948a7-bded-411c-8c01-f47c47f2b0ca",
   "metadata": {
    "tags": []
   },
   "outputs": [
    {
     "data": {
      "text/plain": [
       "(3, 6)"
      ]
     },
     "execution_count": 151,
     "metadata": {},
     "output_type": "execute_result"
    }
   ],
   "source": [
    "# Exercise 8 - Print out the shape of d.\n",
    "d.shape"
   ]
  },
  {
   "cell_type": "code",
   "execution_count": 152,
   "id": "e756e5f7-36c8-40f9-9742-ca105fd2f679",
   "metadata": {
    "tags": []
   },
   "outputs": [
    {
     "data": {
      "text/plain": [
       "array([[ 90,  45,  60],\n",
       "       [ 30, -90,  45],\n",
       "       [ 45, -30, -45],\n",
       "       [  0, 270,  90],\n",
       "       [120,  90, -45],\n",
       "       [180,   0, 180]])"
      ]
     },
     "execution_count": 152,
     "metadata": {},
     "output_type": "execute_result"
    }
   ],
   "source": [
    "# Exercise 9 - Transpose and then print out the shape of d.\n",
    "d.T"
   ]
  },
  {
   "cell_type": "code",
   "execution_count": 153,
   "id": "547160f9-a6d8-4fe6-a92e-bbfdb5fb3cb6",
   "metadata": {
    "tags": []
   },
   "outputs": [
    {
     "data": {
      "text/plain": [
       "array([[ 90,  30],\n",
       "       [ 45,   0],\n",
       "       [120, 180],\n",
       "       [ 45, -90],\n",
       "       [-30, 270],\n",
       "       [ 90,   0],\n",
       "       [ 60,  45],\n",
       "       [-45,  90],\n",
       "       [-45, 180]])"
      ]
     },
     "execution_count": 153,
     "metadata": {},
     "output_type": "execute_result"
    }
   ],
   "source": [
    "# Exercise 10 - Reshape d into an array of 9 x 2\n",
    "d.reshape(9,2)"
   ]
  },
  {
   "cell_type": "code",
   "execution_count": null,
   "id": "2d67744d-9443-40c5-b019-95e2b64fd284",
   "metadata": {},
   "outputs": [],
   "source": []
  }
 ],
 "metadata": {
  "kernelspec": {
   "display_name": "Python 3 (ipykernel)",
   "language": "python",
   "name": "python3"
  },
  "language_info": {
   "codemirror_mode": {
    "name": "ipython",
    "version": 3
   },
   "file_extension": ".py",
   "mimetype": "text/x-python",
   "name": "python",
   "nbconvert_exporter": "python",
   "pygments_lexer": "ipython3",
   "version": "3.11.4"
  }
 },
 "nbformat": 4,
 "nbformat_minor": 5
}
