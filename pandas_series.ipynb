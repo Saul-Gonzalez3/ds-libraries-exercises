{
 "cells": [
  {
   "cell_type": "code",
   "execution_count": 1,
   "id": "2dfd738b-4e9c-40be-8afe-6a212fb1a203",
   "metadata": {
    "tags": []
   },
   "outputs": [
    {
     "data": {
      "text/plain": [
       "0                 kiwi\n",
       "1                mango\n",
       "2           strawberry\n",
       "3            pineapple\n",
       "4           gala apple\n",
       "5     honeycrisp apple\n",
       "6               tomato\n",
       "7           watermelon\n",
       "8             honeydew\n",
       "9                 kiwi\n",
       "10                kiwi\n",
       "11                kiwi\n",
       "12               mango\n",
       "13           blueberry\n",
       "14          blackberry\n",
       "15          gooseberry\n",
       "16              papaya\n",
       "dtype: object"
      ]
     },
     "execution_count": 1,
     "metadata": {},
     "output_type": "execute_result"
    }
   ],
   "source": [
    "import pandas as pd\n",
    "import numpy as np\n",
    "\n",
    "fruits = [\"kiwi\", \"mango\", \"strawberry\", \"pineapple\", \"gala apple\", \"honeycrisp apple\", \"tomato\", \"watermelon\", \"honeydew\", \"kiwi\", \"kiwi\", \"kiwi\", \"mango\", \"blueberry\", \"blackberry\", \"gooseberry\", \"papaya\"]\n",
    "fruits = pd.Series(fruits)\n",
    "fruits"
   ]
  },
  {
   "cell_type": "code",
   "execution_count": 2,
   "id": "81ba3e98-53f6-4e4a-bd34-c917e7c06857",
   "metadata": {
    "tags": []
   },
   "outputs": [
    {
     "data": {
      "text/plain": [
       "17"
      ]
     },
     "execution_count": 2,
     "metadata": {},
     "output_type": "execute_result"
    }
   ],
   "source": [
    "#Determine the number of elements in fruits.\n",
    "\n",
    "fruits.size"
   ]
  },
  {
   "cell_type": "code",
   "execution_count": 3,
   "id": "419cebf1-98ee-480e-91ee-2cdeb6abb76d",
   "metadata": {
    "tags": []
   },
   "outputs": [
    {
     "data": {
      "text/plain": [
       "RangeIndex(start=0, stop=17, step=1)"
      ]
     },
     "execution_count": 3,
     "metadata": {},
     "output_type": "execute_result"
    }
   ],
   "source": [
    "#Output only the index from fruits.\n",
    "\n",
    "fruits.index"
   ]
  },
  {
   "cell_type": "code",
   "execution_count": 4,
   "id": "c6325142-f652-403a-a6f7-19e879d4f8db",
   "metadata": {
    "tags": []
   },
   "outputs": [
    {
     "data": {
      "text/plain": [
       "array(['kiwi', 'mango', 'strawberry', 'pineapple', 'gala apple',\n",
       "       'honeycrisp apple', 'tomato', 'watermelon', 'honeydew', 'kiwi',\n",
       "       'kiwi', 'kiwi', 'mango', 'blueberry', 'blackberry', 'gooseberry',\n",
       "       'papaya'], dtype=object)"
      ]
     },
     "execution_count": 4,
     "metadata": {},
     "output_type": "execute_result"
    }
   ],
   "source": [
    "#Output only the values from fruits.\n",
    "fruits.values"
   ]
  },
  {
   "cell_type": "code",
   "execution_count": 5,
   "id": "bc7e4716-eb4c-4c19-93aa-c8b52c9b49a7",
   "metadata": {
    "tags": []
   },
   "outputs": [
    {
     "data": {
      "text/plain": [
       "dtype('O')"
      ]
     },
     "execution_count": 5,
     "metadata": {},
     "output_type": "execute_result"
    }
   ],
   "source": [
    "#Confirm the data type of the values in fruits.\n",
    "fruits.dtypes"
   ]
  },
  {
   "cell_type": "code",
   "execution_count": 6,
   "id": "3f521bee-8fbf-4b07-aeab-19acdbfe161c",
   "metadata": {
    "tags": []
   },
   "outputs": [
    {
     "data": {
      "text/plain": [
       "0          kiwi\n",
       "1         mango\n",
       "2    strawberry\n",
       "3     pineapple\n",
       "4    gala apple\n",
       "dtype: object"
      ]
     },
     "execution_count": 6,
     "metadata": {},
     "output_type": "execute_result"
    }
   ],
   "source": [
    "#Output only the first five values from fruits. Output the last three values. Output two random values from fruits.\n",
    "fruits.head()"
   ]
  },
  {
   "cell_type": "code",
   "execution_count": 7,
   "id": "e3e2763c-0425-4cba-92ed-b8502312fbcb",
   "metadata": {
    "tags": []
   },
   "outputs": [
    {
     "data": {
      "text/plain": [
       "14    blackberry\n",
       "15    gooseberry\n",
       "16        papaya\n",
       "dtype: object"
      ]
     },
     "execution_count": 7,
     "metadata": {},
     "output_type": "execute_result"
    }
   ],
   "source": [
    "fruits.tail(3)"
   ]
  },
  {
   "cell_type": "code",
   "execution_count": 8,
   "id": "5b81cb7b-6f06-4dcc-9848-be9b26ab4efb",
   "metadata": {
    "tags": []
   },
   "outputs": [
    {
     "data": {
      "text/plain": [
       "3     pineapple\n",
       "12        mango\n",
       "dtype: object"
      ]
     },
     "execution_count": 8,
     "metadata": {},
     "output_type": "execute_result"
    }
   ],
   "source": [
    "fruits.sample(2)"
   ]
  },
  {
   "cell_type": "code",
   "execution_count": 9,
   "id": "098fa0d7-f91a-4f07-aca9-9a3509a6603e",
   "metadata": {
    "tags": []
   },
   "outputs": [
    {
     "data": {
      "text/plain": [
       "count       17\n",
       "unique      13\n",
       "top       kiwi\n",
       "freq         4\n",
       "dtype: object"
      ]
     },
     "execution_count": 9,
     "metadata": {},
     "output_type": "execute_result"
    }
   ],
   "source": [
    "#Run the .describe() on fruits to see what information it returns when called on a Series with string values.\n",
    "\n",
    "fruits.describe()"
   ]
  },
  {
   "cell_type": "code",
   "execution_count": 10,
   "id": "e45b23d1-3f85-43f9-91c7-9c05ac777287",
   "metadata": {
    "tags": []
   },
   "outputs": [
    {
     "data": {
      "text/plain": [
       "array(['kiwi', 'mango', 'strawberry', 'pineapple', 'gala apple',\n",
       "       'honeycrisp apple', 'tomato', 'watermelon', 'honeydew',\n",
       "       'blueberry', 'blackberry', 'gooseberry', 'papaya'], dtype=object)"
      ]
     },
     "execution_count": 10,
     "metadata": {},
     "output_type": "execute_result"
    }
   ],
   "source": [
    "#Run the code necessary to produce only the unique string values from fruits.\n",
    "\n",
    "fruits.unique()"
   ]
  },
  {
   "cell_type": "code",
   "execution_count": 11,
   "id": "8565f3f4-bc9a-4f08-b633-be9db766d18a",
   "metadata": {
    "tags": []
   },
   "outputs": [
    {
     "data": {
      "text/plain": [
       "kiwi                4\n",
       "mango               2\n",
       "strawberry          1\n",
       "pineapple           1\n",
       "gala apple          1\n",
       "honeycrisp apple    1\n",
       "tomato              1\n",
       "watermelon          1\n",
       "honeydew            1\n",
       "blueberry           1\n",
       "blackberry          1\n",
       "gooseberry          1\n",
       "papaya              1\n",
       "dtype: int64"
      ]
     },
     "execution_count": 11,
     "metadata": {},
     "output_type": "execute_result"
    }
   ],
   "source": [
    "#Determine how many times each unique string value occurs in fruits.\n",
    "\n",
    "fruits.value_counts()"
   ]
  },
  {
   "cell_type": "code",
   "execution_count": 12,
   "id": "259e2708-09dc-44f1-9398-ce4d455d8fb5",
   "metadata": {
    "tags": []
   },
   "outputs": [
    {
     "data": {
      "text/plain": [
       "kiwi    4\n",
       "dtype: int64"
      ]
     },
     "execution_count": 12,
     "metadata": {},
     "output_type": "execute_result"
    }
   ],
   "source": [
    "#Determine the string value that occurs most frequently in fruits.\n",
    "unique_fruits = fruits.value_counts()\n",
    "unique_fruits.nlargest(1)"
   ]
  },
  {
   "cell_type": "code",
   "execution_count": 13,
   "id": "e691addc-e2b9-4e64-82e0-459723759f5c",
   "metadata": {
    "tags": []
   },
   "outputs": [
    {
     "data": {
      "text/plain": [
       "strawberry          1\n",
       "pineapple           1\n",
       "gala apple          1\n",
       "honeycrisp apple    1\n",
       "tomato              1\n",
       "watermelon          1\n",
       "honeydew            1\n",
       "blueberry           1\n",
       "blackberry          1\n",
       "gooseberry          1\n",
       "papaya              1\n",
       "dtype: int64"
      ]
     },
     "execution_count": 13,
     "metadata": {},
     "output_type": "execute_result"
    }
   ],
   "source": [
    "#Determine the string value that occurs least frequently in fruits.\n",
    "\n",
    "unique_fruits = fruits.value_counts()\n",
    "unique_fruits.nsmallest(keep='all')"
   ]
  },
  {
   "cell_type": "code",
   "execution_count": 14,
   "id": "5df5acb0-5d76-4e94-9698-77805c166f97",
   "metadata": {},
   "outputs": [
    {
     "data": {
      "text/plain": [
       "0                 Kiwi\n",
       "1                Mango\n",
       "2           Strawberry\n",
       "3            Pineapple\n",
       "4           Gala apple\n",
       "5     Honeycrisp apple\n",
       "6               Tomato\n",
       "7           Watermelon\n",
       "8             Honeydew\n",
       "9                 Kiwi\n",
       "10                Kiwi\n",
       "11                Kiwi\n",
       "12               Mango\n",
       "13           Blueberry\n",
       "14          Blackberry\n",
       "15          Gooseberry\n",
       "16              Papaya\n",
       "dtype: object"
      ]
     },
     "execution_count": 14,
     "metadata": {},
     "output_type": "execute_result"
    }
   ],
   "source": [
    "#Capitalize all the string values in fruits.\n",
    "fruits.str.capitalize()\n"
   ]
  },
  {
   "cell_type": "code",
   "execution_count": 15,
   "id": "7845fe1a-916e-41eb-a0c2-2489dd6fca5f",
   "metadata": {},
   "outputs": [
    {
     "data": {
      "text/plain": [
       "14"
      ]
     },
     "execution_count": 15,
     "metadata": {},
     "output_type": "execute_result"
    }
   ],
   "source": [
    "#Count the letter \"a\" in all the string values (use string vectorization).\n",
    "\n",
    "fruits.str.count('a').sum()"
   ]
  },
  {
   "cell_type": "code",
   "execution_count": 60,
   "id": "8639aa67-5da2-4013-b85d-7c7ea27f8e3a",
   "metadata": {},
   "outputs": [
    {
     "data": {
      "text/plain": [
       "0     2\n",
       "1     2\n",
       "2     2\n",
       "3     4\n",
       "4     4\n",
       "5     5\n",
       "6     3\n",
       "7     4\n",
       "8     3\n",
       "9     2\n",
       "10    2\n",
       "11    2\n",
       "12    2\n",
       "13    3\n",
       "14    2\n",
       "15    4\n",
       "16    3\n",
       "dtype: int64"
      ]
     },
     "execution_count": 60,
     "metadata": {},
     "output_type": "execute_result"
    }
   ],
   "source": [
    "#Output the number of vowels in each and every string value.\n",
    "\n",
    "def count_vowels(word):\n",
    "    count = 0 \n",
    "\n",
    "    for char in word:\n",
    "#         print(char)\n",
    "        if char in list('aeiou'):\n",
    "#             print('this is a vowel')\n",
    "            count += 1\n",
    "    return count\n",
    "fruits.apply(count_vowels)\n",
    "\n",
    "#fruits.str.count(r'[aeiou]') The shortest way, it uses REGEX\n"
   ]
  },
  {
   "cell_type": "code",
   "execution_count": 17,
   "id": "ae5594e6-39d0-4ed3-bdfa-ef92c0edb651",
   "metadata": {},
   "outputs": [
    {
     "data": {
      "text/plain": [
       "'honeycrisp apple'"
      ]
     },
     "execution_count": 17,
     "metadata": {},
     "output_type": "execute_result"
    }
   ],
   "source": [
    "#Write the code to get the longest string value from fruits.\n",
    "\n",
    "longest_string = max(fruits, key = len)\n",
    "\n",
    "longest_string\n"
   ]
  },
  {
   "cell_type": "code",
   "execution_count": 18,
   "id": "2a808e06-b86c-4d2a-bb7b-7d8bd3895c78",
   "metadata": {},
   "outputs": [
    {
     "data": {
      "text/plain": [
       "1                mango\n",
       "2           strawberry\n",
       "3            pineapple\n",
       "4           gala apple\n",
       "5     honeycrisp apple\n",
       "6               tomato\n",
       "7           watermelon\n",
       "8             honeydew\n",
       "12               mango\n",
       "13           blueberry\n",
       "14          blackberry\n",
       "15          gooseberry\n",
       "16              papaya\n",
       "dtype: object"
      ]
     },
     "execution_count": 18,
     "metadata": {},
     "output_type": "execute_result"
    }
   ],
   "source": [
    "#Write the code to get the string values with 5 or more letters in the name.\n",
    "\n",
    "fruits[fruits.str.len() > 4]\n"
   ]
  },
  {
   "cell_type": "code",
   "execution_count": 19,
   "id": "e33db8d1-7d09-41c4-9719-4ccc3f754017",
   "metadata": {},
   "outputs": [
    {
     "data": {
      "text/plain": [
       "6         tomato\n",
       "15    gooseberry\n",
       "dtype: object"
      ]
     },
     "execution_count": 19,
     "metadata": {},
     "output_type": "execute_result"
    }
   ],
   "source": [
    "#Find the fruit(s) containing the letter \"o\" two or more times.\n",
    "\n",
    "fruits[fruits.str.count(\"o\") >= 2]\n",
    "    \n"
   ]
  },
  {
   "cell_type": "code",
   "execution_count": 20,
   "id": "be836aa9-51a5-4418-b41b-c79109b740ff",
   "metadata": {},
   "outputs": [
    {
     "data": {
      "text/plain": [
       "2     strawberry\n",
       "13     blueberry\n",
       "14    blackberry\n",
       "15    gooseberry\n",
       "dtype: object"
      ]
     },
     "execution_count": 20,
     "metadata": {},
     "output_type": "execute_result"
    }
   ],
   "source": [
    "#Write the code to get only the string values containing the substring \"berry\".\n",
    "\n",
    "fruits[fruits.str.contains(\"berry\")]\n"
   ]
  },
  {
   "cell_type": "code",
   "execution_count": 21,
   "id": "97d03803-178b-4b4a-ad75-b8e9c6bde293",
   "metadata": {},
   "outputs": [
    {
     "data": {
      "text/plain": [
       "3           pineapple\n",
       "4          gala apple\n",
       "5    honeycrisp apple\n",
       "dtype: object"
      ]
     },
     "execution_count": 21,
     "metadata": {},
     "output_type": "execute_result"
    }
   ],
   "source": [
    "#Write the code to get only the string values containing the substring \"apple\".\n",
    "\n",
    "fruits[fruits.str.contains(\"apple\")]\n"
   ]
  },
  {
   "cell_type": "code",
   "execution_count": 22,
   "id": "ca2cb4a0-6496-493a-8375-50f7e00ca014",
   "metadata": {},
   "outputs": [
    {
     "name": "stdout",
     "output_type": "stream",
     "text": [
      "Maximum vowels word : honeycrisp apple\n"
     ]
    }
   ],
   "source": [
    "#Which string value contains the most vowels?\n",
    "\n",
    "res = \"\"\n",
    "max_len = 0\n",
    " \n",
    "for ele in fruits:\n",
    "\n",
    "    vow_len = len([el for el in ele if el in ['a', 'e', 'o', 'u', 'i']])\n",
    "     \n",
    "    if vow_len > max_len:\n",
    "        max_len = vow_len\n",
    "        res = ele\n",
    "print(\"Maximum vowels word : \" + str(res))\n",
    "\n"
   ]
  },
  {
   "cell_type": "code",
   "execution_count": 23,
   "id": "d66d13be-be08-4326-9469-895a75491f12",
   "metadata": {},
   "outputs": [],
   "source": [
    "#Part III\n",
    "#Use pandas to create a Series named letters from the following string. The easiest way to make this string into a Pandas series is to use list to convert each \n",
    "#individual letter into a single string on a basic Python list."
   ]
  },
  {
   "cell_type": "code",
   "execution_count": 49,
   "id": "3fb231a3-0cad-46d5-8729-a5482c652806",
   "metadata": {},
   "outputs": [
    {
     "data": {
      "text/plain": [
       "0      h\n",
       "1      n\n",
       "2      v\n",
       "3      i\n",
       "4      d\n",
       "      ..\n",
       "195    r\n",
       "196    o\n",
       "197    g\n",
       "198    u\n",
       "199    y\n",
       "Length: 200, dtype: object"
      ]
     },
     "execution_count": 49,
     "metadata": {},
     "output_type": "execute_result"
    }
   ],
   "source": [
    "letters = pd.Series(list('hnvidduckkqxwymbimkccexbkmqygkxoyndmcxnwqarhyffsjpsrabtjzsypmzadfavyrnndndvswreauxovncxtwzpwejilzjrmmbbgbyxvjtewqthafnbkqplarokkyydtubbmnexoypulzwfhqvckdpqtpoppzqrmcvhhpwgjwupgzhiofohawytlsiyecuproguy'))\n",
    "letters"
   ]
  },
  {
   "cell_type": "code",
   "execution_count": 51,
   "id": "502a1fc7-0628-4a4b-afb7-3d21b8ce9fc5",
   "metadata": {},
   "outputs": [
    {
     "data": {
      "text/plain": [
       "y    13\n",
       "dtype: int64"
      ]
     },
     "execution_count": 51,
     "metadata": {},
     "output_type": "execute_result"
    }
   ],
   "source": [
    "#Which letter occurs the most frequently in the letters Series?\n",
    "\n",
    "letters.value_counts().nlargest(1)"
   ]
  },
  {
   "cell_type": "code",
   "execution_count": 52,
   "id": "b1416e18-0173-4bc9-84c4-76526e9417c6",
   "metadata": {},
   "outputs": [
    {
     "data": {
      "text/plain": [
       "l    4\n",
       "dtype: int64"
      ]
     },
     "execution_count": 52,
     "metadata": {},
     "output_type": "execute_result"
    }
   ],
   "source": [
    "#Which letter occurs the Least frequently?\n",
    "\n",
    "letters.value_counts().tail(1)"
   ]
  },
  {
   "cell_type": "code",
   "execution_count": 61,
   "id": "ecc01a82-70d2-40e3-b972-a4d5f9f4da45",
   "metadata": {},
   "outputs": [
    {
     "data": {
      "text/plain": [
       "34"
      ]
     },
     "execution_count": 61,
     "metadata": {},
     "output_type": "execute_result"
    }
   ],
   "source": [
    "#How many vowels are in the Series?\n",
    "\n",
    "letters.apply(count_vowels).sum()"
   ]
  },
  {
   "cell_type": "code",
   "execution_count": 62,
   "id": "285eca46-e4e3-40ba-a1a7-e50c4208e358",
   "metadata": {},
   "outputs": [
    {
     "data": {
      "text/plain": [
       "166"
      ]
     },
     "execution_count": 62,
     "metadata": {},
     "output_type": "execute_result"
    }
   ],
   "source": [
    "#How many consonants are in the Series?\n",
    "\n",
    "len(letters) - letters.apply(count_vowels).sum()"
   ]
  },
  {
   "cell_type": "code",
   "execution_count": 56,
   "id": "05b17f69-a81a-4f12-912e-5499d3fd7ee6",
   "metadata": {},
   "outputs": [
    {
     "data": {
      "text/plain": [
       "0      H\n",
       "1      N\n",
       "2      V\n",
       "3      I\n",
       "4      D\n",
       "      ..\n",
       "195    R\n",
       "196    O\n",
       "197    G\n",
       "198    U\n",
       "199    Y\n",
       "Length: 200, dtype: object"
      ]
     },
     "execution_count": 56,
     "metadata": {},
     "output_type": "execute_result"
    }
   ],
   "source": [
    "#Create a Series that has all of the same letters but uppercased.\n",
    "\n",
    "uppercased_letters = letters.str.upper()\n",
    "uppercased_letters = pd.Series(uppercased_letters)\n",
    "uppercased_letters"
   ]
  },
  {
   "cell_type": "code",
   "execution_count": 57,
   "id": "2a24f911-a950-4d6d-9e80-8417679ccc35",
   "metadata": {},
   "outputs": [
    {
     "data": {
      "image/png": "[encoded data removed]",
      "text/plain": [
       "<Figure size 640x480 with 1 Axes>"
      ]
     },
     "metadata": {},
     "output_type": "display_data"
    }
   ],
   "source": [
    "#Create a bar plot of the frequencies of the 6 most commonly occuring letters.\n",
    "\n",
    "letters.value_counts().head(6).plot.barh();"
   ]
  },
  {
   "cell_type": "code",
   "execution_count": 33,
   "id": "b8199b02-59e0-4481-b2ed-9581d69fa6f3",
   "metadata": {},
   "outputs": [],
   "source": [
    "#Use pandas to create a Series named numbers from the following list:\n",
    "\n",
    "numbers = ['$796,459.41', '$278.60', '$482,571.67', '$4,503,915.98', '$2,121,418.3', '$1,260,813.3', '$87,231.01', '$1,509,175.45', '$4,138,548.00', '$2,848,913.80', '$594,715.39', '$4,789,988.17', '$4,513,644.5', '$3,191,059.97', '$1,758,712.24', '$4,338,283.54', '$4,738,303.38', '$2,791,759.67', '$769,681.94', '$452,650.23']\n",
    "numbers = pd.Series(numbers)\n"
   ]
  },
  {
   "cell_type": "code",
   "execution_count": 34,
   "id": "54991fbd-c80f-4cb7-9f33-ac6809778968",
   "metadata": {},
   "outputs": [
    {
     "data": {
      "text/plain": [
       "dtype('O')"
      ]
     },
     "execution_count": 34,
     "metadata": {},
     "output_type": "execute_result"
    }
   ],
   "source": [
    "#What is the data type of the numbers Series?\n",
    "\n",
    "numbers.dtype"
   ]
  },
  {
   "cell_type": "code",
   "execution_count": 35,
   "id": "bc7c5417-d696-40d4-baac-1258687ada55",
   "metadata": {},
   "outputs": [
    {
     "data": {
      "text/plain": [
       "RangeIndex(start=0, stop=20, step=1)"
      ]
     },
     "execution_count": 35,
     "metadata": {},
     "output_type": "execute_result"
    }
   ],
   "source": [
    "#How many elements are in the number Series?\n",
    "\n",
    "numbers.index"
   ]
  },
  {
   "cell_type": "code",
   "execution_count": 36,
   "id": "8d29f488-4488-48d1-a8aa-0aeca78f872b",
   "metadata": {},
   "outputs": [],
   "source": [
    "#Perform the necessary manipulations by accessing Series attributes and methods to convert the numbers Series to a numeric data type.\n",
    "\n",
    "stripped_nums = numbers.str.strip(\"$\").str.replace(\",\",\"\")\n",
    "\n"
   ]
  },
  {
   "cell_type": "code",
   "execution_count": 37,
   "id": "98a011d9-4ac7-4bd1-b3c5-91ec3f5ce17b",
   "metadata": {
    "tags": []
   },
   "outputs": [],
   "source": [
    "stripped_nums = stripped_nums.astype(float)"
   ]
  },
  {
   "cell_type": "code",
   "execution_count": 38,
   "id": "e53944a3-4edb-489d-aaf7-a2b53f25cae6",
   "metadata": {
    "tags": []
   },
   "outputs": [
    {
     "data": {
      "text/plain": [
       "dtype('float64')"
      ]
     },
     "execution_count": 38,
     "metadata": {},
     "output_type": "execute_result"
    }
   ],
   "source": [
    "stripped_nums.dtypes"
   ]
  },
  {
   "cell_type": "code",
   "execution_count": 39,
   "id": "a94b88f6-0d9a-4768-b8c5-2cb5cfda6d8e",
   "metadata": {},
   "outputs": [
    {
     "data": {
      "text/plain": [
       "4789988.17"
      ]
     },
     "execution_count": 39,
     "metadata": {},
     "output_type": "execute_result"
    }
   ],
   "source": [
    "#Run the code to discover the maximum value from the Series.\n",
    "\n",
    "stripped_nums.max()"
   ]
  },
  {
   "cell_type": "code",
   "execution_count": 40,
   "id": "83b6883c-bdbb-4a5f-b95d-84716ebe5d6f",
   "metadata": {},
   "outputs": [
    {
     "data": {
      "text/plain": [
       "278.6"
      ]
     },
     "execution_count": 40,
     "metadata": {},
     "output_type": "execute_result"
    }
   ],
   "source": [
    "#Run the code to discover the minimum value from the Series.\n",
    "\n",
    "stripped_nums.min()"
   ]
  },
  {
   "cell_type": "code",
   "execution_count": 41,
   "id": "f6a07536-9073-402d-a0ba-e97552913d2a",
   "metadata": {},
   "outputs": [
    {
     "data": {
      "text/plain": [
       "1         278.60\n",
       "6       87231.01\n",
       "19     452650.23\n",
       "2      482571.67\n",
       "10     594715.39\n",
       "18     769681.94\n",
       "0      796459.41\n",
       "5     1260813.30\n",
       "7     1509175.45\n",
       "14    1758712.24\n",
       "4     2121418.30\n",
       "17    2791759.67\n",
       "9     2848913.80\n",
       "13    3191059.97\n",
       "8     4138548.00\n",
       "15    4338283.54\n",
       "3     4503915.98\n",
       "12    4513644.50\n",
       "16    4738303.38\n",
       "11    4789988.17\n",
       "dtype: float64"
      ]
     },
     "execution_count": 41,
     "metadata": {},
     "output_type": "execute_result"
    }
   ],
   "source": [
    "#What is the range of the values in the Series?\n",
    "\n",
    "stripped_nums.sort_values()"
   ]
  },
  {
   "cell_type": "code",
   "execution_count": 42,
   "id": "22c3533f-2cf2-4016-a4fa-75304b4865e1",
   "metadata": {},
   "outputs": [],
   "source": [
    "#Bin the data into 4 equally sized intervals or bins and output how many values fall into each bin.\n",
    "\n",
    "stripped_nums = pd.cut(stripped_nums, bins = 4).value_counts().sort_index()"
   ]
  },
  {
   "cell_type": "code",
   "execution_count": 43,
   "id": "e5cfd869-b4b6-4551-b384-9ba142a2d1ab",
   "metadata": {},
   "outputs": [
    {
     "data": {
      "image/png": "[encoded data removed]",
      "text/plain": [
       "<Figure size 640x480 with 1 Axes>"
      ]
     },
     "metadata": {},
     "output_type": "display_data"
    }
   ],
   "source": [
    "#Plot the binned data in a meaningful way. Be sure to include a title and axis labels.\n",
    "\n",
    "stripped_nums.plot.bar(title=\"Bin\").set(xlabel=\"monies in bins\",ylabel=\"whatever\");"
   ]
  },
  {
   "cell_type": "code",
   "execution_count": 26,
   "id": "8cb7f2ba-ec4e-483e-853c-74bd9ff275e8",
   "metadata": {},
   "outputs": [],
   "source": [
    "#Use pandas to create a Series named exam_scores from the following list:\n",
    "\n",
    "exam_scores = pd.Series([60, 86, 75, 62, 93, 71, 60, 83, 95, 78, 65, 72, 69, 81, 96, 80, 85, 92, 82, 78])\n"
   ]
  },
  {
   "cell_type": "code",
   "execution_count": 44,
   "id": "9f9437fe-834e-49ca-a999-ac7b3b383715",
   "metadata": {},
   "outputs": [
    {
     "data": {
      "text/plain": [
       "RangeIndex(start=0, stop=20, step=1)"
      ]
     },
     "execution_count": 44,
     "metadata": {},
     "output_type": "execute_result"
    }
   ],
   "source": [
    "#How many elements are in the exam_scores Series?\n",
    "\n",
    "exam_scores.index"
   ]
  },
  {
   "cell_type": "code",
   "execution_count": 27,
   "id": "c5cffd3e-715e-4c6c-8a59-15f662ce0296",
   "metadata": {},
   "outputs": [
    {
     "data": {
      "text/plain": [
       "(60, 96, 78.15, 79.0)"
      ]
     },
     "execution_count": 27,
     "metadata": {},
     "output_type": "execute_result"
    }
   ],
   "source": [
    "#Run the code to discover the minimum, the maximum, the mean, and the median scores for the exam_scores Series.\n",
    "\n",
    "exam_stats = exam_scores.min(), exam_scores.max(), exam_scores.mean(), exam_scores.median()\n",
    "exam_stats"
   ]
  },
  {
   "cell_type": "code",
   "execution_count": null,
   "id": "9bf5ed78-9af6-43dc-b235-e5bbdfc2ec0a",
   "metadata": {},
   "outputs": [],
   "source": [
    "#Plot the Series in a meaningful way and make sure your chart has a title and axis labels.\n",
    "\n",
    "exam_scores.plot.hist(\n",
    "    title=\"Exam Score Distribution\"\n",
    ").set(\n",
    "    xlabel=\"Exam Scores\",\n",
    "    ylabel=\"Frequency\"\n",
    ")\n",
    ";"
   ]
  },
  {
   "cell_type": "code",
   "execution_count": 28,
   "id": "60690a31-615a-47d8-8e16-1a035979e480",
   "metadata": {},
   "outputs": [
    {
     "data": {
      "text/plain": [
       "0      64\n",
       "1      90\n",
       "2      79\n",
       "3      66\n",
       "4      97\n",
       "5      75\n",
       "6      64\n",
       "7      87\n",
       "8      99\n",
       "9      82\n",
       "10     69\n",
       "11     76\n",
       "12     73\n",
       "13     85\n",
       "14    100\n",
       "15     84\n",
       "16     89\n",
       "17     96\n",
       "18     86\n",
       "19     82\n",
       "dtype: int64"
      ]
     },
     "execution_count": 28,
     "metadata": {},
     "output_type": "execute_result"
    }
   ],
   "source": [
    "#Write the code necessary to implement a curve for your exam_grades Series and save this as curved_grades. \n",
    "#Add the necessary points to the highest grade to make it 100, and add the same number of points to every other score in the Series as well.\n",
    "curve = 100-max(exam_scores)\n",
    "curved_grades = exam_scores + curve\n",
    "curved_grades"
   ]
  },
  {
   "cell_type": "code",
   "execution_count": 30,
   "id": "f6560be1-a156-4c33-8c58-e47fb02059dc",
   "metadata": {},
   "outputs": [
    {
     "data": {
      "text/plain": [
       "0    D\n",
       "1    A\n",
       "2    C\n",
       "3    D\n",
       "4    A\n",
       "dtype: category\n",
       "Categories (5, object): ['F' < 'D' < 'C' < 'B' < 'A']"
      ]
     },
     "execution_count": 30,
     "metadata": {},
     "output_type": "execute_result"
    }
   ],
   "source": [
    "#Use a method to convert each of the numeric values in the curved_grades Series into a categorical value of letter grades. \n",
    "#For example, 86 should be a 'B' and 95 should be an 'A'. Save this as a Series named letter_grades.\n",
    "\n",
    "letter_grades = pd.cut(curved_grades,\n",
    "        bins=[0,60,70,80,90,100],\n",
    "        labels=['F','D','C','B','A'],\n",
    "        right=False)\n",
    "            \n",
    "letter_grades.head()"
   ]
  },
  {
   "cell_type": "code",
   "execution_count": 32,
   "id": "e55fb609-b82c-43f7-9c52-e2b7403e86a1",
   "metadata": {},
   "outputs": [
    {
     "data": {
      "image/png": "[encoded data removed]",
      "text/plain": [
       "<Figure size 640x480 with 1 Axes>"
      ]
     },
     "metadata": {},
     "output_type": "display_data"
    }
   ],
   "source": [
    "#Plot your new categorical letter_grades Series in a meaninful way and include a title and axis labels.\n",
    "\n",
    "letter_grades.value_counts().sort_index(ascending=True).plot.barh(\n",
    "        title=\"How Many Letter Grades on Exam\",\n",
    "        xlabel=\"letter grade\",\n",
    "        ylabel=\"totals\"\n",
    ");"
   ]
  },
  {
   "cell_type": "code",
   "execution_count": null,
   "id": "4552bea7-8d47-460c-94e3-84b9a8d8506b",
   "metadata": {},
   "outputs": [],
   "source": []
  },
  {
   "cell_type": "code",
   "execution_count": null,
   "id": "ebe3cd30-b85a-427c-9e0b-6d211da58830",
   "metadata": {},
   "outputs": [],
   "source": []
  },
  {
   "cell_type": "code",
   "execution_count": null,
   "id": "4a99b241-906a-4caf-b153-73a50337bfc3",
   "metadata": {},
   "outputs": [],
   "source": []
  }
 ],
 "metadata": {
  "kernelspec": {
   "display_name": "Python 3 (ipykernel)",
   "language": "python",
   "name": "python3"
  },
  "language_info": {
   "codemirror_mode": {
    "name": "ipython",
    "version": 3
   },
   "file_extension": ".py",
   "mimetype": "text/x-python",
   "name": "python",
   "nbconvert_exporter": "python",
   "pygments_lexer": "ipython3",
   "version": "3.11.4"
  }
 },
 "nbformat": 4,
 "nbformat_minor": 5
}
